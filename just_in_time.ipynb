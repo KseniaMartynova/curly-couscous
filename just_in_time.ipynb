{
 "cells": [
  {
   "cell_type": "code",
   "execution_count": 2,
   "metadata": {},
   "outputs": [],
   "source": [
    "from __future__ import annotations\n",
    "from numba import jit, prange\n",
    "import numpy\n",
    "import numpy.random\n",
    "\n",
    "random_m = numpy.matrix(numpy.random.rand(300, 30000))\n",
    "heat_m = numpy.zeros((1, 1))\n",
    "\n",
    "def sum_matrix_nojit(m: numpy.matrix)-> numpy.float:\n",
    "    s = 0.0\n",
    "    d0, d1 = m.shape\n",
    "    for r in range(d0):\n",
    "        for c in range(d1):\n",
    "            s += m[r, c]\n",
    "    return s\n",
    "\n",
    "\n",
    "@jit(nopython=True, fastmath=True)\n",
    "def sum_matrix_jit(m: numpy.matrix)-> numpy.float:\n",
    "    s = 0.0\n",
    "    d0, d1 = m.shape\n",
    "    for r in range(d0):\n",
    "        for c in range(d1):\n",
    "            s += m[r, c]\n",
    "    return s\n",
    "\n",
    "\n",
    "@jit(nopython=True, parallel=True, fastmath=True)\n",
    "def sum_matrix_jit_par(m: numpy.matrix)-> numpy.float:\n",
    "    s = 0.0\n",
    "    d0, d1 = m.shape\n",
    "    for r in prange(d0):\n",
    "        sc = 0.0\n",
    "        for c in range(d1):\n",
    "            sc += m[r, c]\n",
    "        s += sc\n",
    "    return s"
   ]
  },
  {
   "cell_type": "code",
   "execution_count": 3,
   "metadata": {},
   "outputs": [
    {
     "name": "stdout",
     "output_type": "stream",
     "text": [
      "13.6 s ± 447 ms per loop (mean ± std. dev. of 7 runs, 1 loop each)\n",
      "24.9 ms ± 1.71 ms per loop (mean ± std. dev. of 7 runs, 10 loops each)\n",
      "7.12 ms ± 681 µs per loop (mean ± std. dev. of 7 runs, 100 loops each)\n"
     ]
    }
   ],
   "source": [
    "%timeit sum_matrix_nojit(random_m)\n",
    "\n",
    "sum_matrix_jit(heat_m)  # give it a heat\n",
    "%timeit sum_matrix_jit(random_m)\n",
    "\n",
    "sum_matrix_jit_par(heat_m)  # give it a heat\n",
    "%timeit sum_matrix_jit_par(random_m)"
   ]
  }
 ],
 "metadata": {
  "kernelspec": {
   "display_name": "Python 3",
   "language": "python",
   "name": "python3"
  },
  "language_info": {
   "codemirror_mode": {
    "name": "ipython",
    "version": 3
   },
   "file_extension": ".py",
   "mimetype": "text/x-python",
   "name": "python",
   "nbconvert_exporter": "python",
   "pygments_lexer": "ipython3",
   "version": "3.10.7"
  },
  "orig_nbformat": 4,
  "vscode": {
   "interpreter": {
    "hash": "568d99031516cb91b124139a50c43e0e628ee43803acee1edec6cbd47ca74668"
   }
  }
 },
 "nbformat": 4,
 "nbformat_minor": 2
}
